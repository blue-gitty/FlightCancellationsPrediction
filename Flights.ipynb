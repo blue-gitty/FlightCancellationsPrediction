{
  "cells": [
    {
      "cell_type": "code",
      "source": [
        "# For cleaning the data\n",
        "import pandas as pd\n",
        "import numpy as np\n",
        "\n",
        "#For Visualizing the data\n",
        "import plotly.express as px\n",
        "import matplotlib.pyplot as plt\n",
        "%matplotlib inline\n",
        "import seaborn as sns\n",
        "\n",
        "# Data Pre-Processing\n",
        "from sklearn.preprocessing import StandardScaler, OrdinalEncoder, PolynomialFeatures\n",
        "from sklearn.impute import SimpleImputer\n",
        "\n",
        "# Model Performance\n",
        "from sklearn.metrics import mean_squared_error, r2_score"
      ],
      "outputs": [],
      "execution_count": 50,
      "metadata": {
        "gather": {
          "logged": 1666584727306
        }
      }
    },
    {
      "cell_type": "code",
      "source": [
        "path = '/mnt/batch/tasks/shared/LS_root/mounts/clusters/payyavula19972/code/Users/payyavula1997/Flights_delay_Project/DelayedFlights.csv'\n",
        "flights_data = pd.read_csv(path)"
      ],
      "outputs": [],
      "execution_count": 2,
      "metadata": {
        "jupyter": {
          "source_hidden": false,
          "outputs_hidden": false
        },
        "nteract": {
          "transient": {
            "deleting": false
          }
        },
        "gather": {
          "logged": 1666580165648
        }
      }
    },
    {
      "cell_type": "code",
      "source": [
        "flights_data.head()"
      ],
      "outputs": [
        {
          "output_type": "execute_result",
          "execution_count": 51,
          "data": {
            "text/plain": "         Year  Month  DayofMonth  DayOfWeek  DepTime  CRSDepTime  ArrTime  \\\n1542406  2008     10          27          1   1622.0        1420      NaN   \n1546593  2008     10          25          6   1323.0        1255      NaN   \n1547161  2008     10          22          3   1825.0        1815      NaN   \n1547178  2008     10          22          3   1733.0        1715      NaN   \n1548271  2008     10          15          3   1943.0        1745      NaN   \n\n         CRSArrTime UniqueCarrier  FlightNum  ... TaxiIn  TaxiOut  Cancelled  \\\n1542406        1520            WN         27  ...    NaN     19.0          1   \n1546593        1442            XE       2347  ...    NaN      0.0          1   \n1547161        1927            XE       2819  ...    NaN      0.0          1   \n1547178        1818            XE       2890  ...    NaN      0.0          1   \n1548271        1857            XE       2117  ...    NaN      0.0          1   \n\n         CancellationCode  Diverted  CarrierDelay WeatherDelay NASDelay  \\\n1542406                 A         0           NaN          NaN      NaN   \n1546593                 B         0           NaN          NaN      NaN   \n1547161                 C         0           NaN          NaN      NaN   \n1547178                 B         0           NaN          NaN      NaN   \n1548271                 B         0           NaN          NaN      NaN   \n\n         SecurityDelay  LateAircraftDelay  \n1542406            NaN                NaN  \n1546593            NaN                NaN  \n1547161            NaN                NaN  \n1547178            NaN                NaN  \n1548271            NaN                NaN  \n\n[5 rows x 29 columns]",
            "text/html": "<div>\n<style scoped>\n    .dataframe tbody tr th:only-of-type {\n        vertical-align: middle;\n    }\n\n    .dataframe tbody tr th {\n        vertical-align: top;\n    }\n\n    .dataframe thead th {\n        text-align: right;\n    }\n</style>\n<table border=\"1\" class=\"dataframe\">\n  <thead>\n    <tr style=\"text-align: right;\">\n      <th></th>\n      <th>Year</th>\n      <th>Month</th>\n      <th>DayofMonth</th>\n      <th>DayOfWeek</th>\n      <th>DepTime</th>\n      <th>CRSDepTime</th>\n      <th>ArrTime</th>\n      <th>CRSArrTime</th>\n      <th>UniqueCarrier</th>\n      <th>FlightNum</th>\n      <th>...</th>\n      <th>TaxiIn</th>\n      <th>TaxiOut</th>\n      <th>Cancelled</th>\n      <th>CancellationCode</th>\n      <th>Diverted</th>\n      <th>CarrierDelay</th>\n      <th>WeatherDelay</th>\n      <th>NASDelay</th>\n      <th>SecurityDelay</th>\n      <th>LateAircraftDelay</th>\n    </tr>\n  </thead>\n  <tbody>\n    <tr>\n      <th>1542406</th>\n      <td>2008</td>\n      <td>10</td>\n      <td>27</td>\n      <td>1</td>\n      <td>1622.0</td>\n      <td>1420</td>\n      <td>NaN</td>\n      <td>1520</td>\n      <td>WN</td>\n      <td>27</td>\n      <td>...</td>\n      <td>NaN</td>\n      <td>19.0</td>\n      <td>1</td>\n      <td>A</td>\n      <td>0</td>\n      <td>NaN</td>\n      <td>NaN</td>\n      <td>NaN</td>\n      <td>NaN</td>\n      <td>NaN</td>\n    </tr>\n    <tr>\n      <th>1546593</th>\n      <td>2008</td>\n      <td>10</td>\n      <td>25</td>\n      <td>6</td>\n      <td>1323.0</td>\n      <td>1255</td>\n      <td>NaN</td>\n      <td>1442</td>\n      <td>XE</td>\n      <td>2347</td>\n      <td>...</td>\n      <td>NaN</td>\n      <td>0.0</td>\n      <td>1</td>\n      <td>B</td>\n      <td>0</td>\n      <td>NaN</td>\n      <td>NaN</td>\n      <td>NaN</td>\n      <td>NaN</td>\n      <td>NaN</td>\n    </tr>\n    <tr>\n      <th>1547161</th>\n      <td>2008</td>\n      <td>10</td>\n      <td>22</td>\n      <td>3</td>\n      <td>1825.0</td>\n      <td>1815</td>\n      <td>NaN</td>\n      <td>1927</td>\n      <td>XE</td>\n      <td>2819</td>\n      <td>...</td>\n      <td>NaN</td>\n      <td>0.0</td>\n      <td>1</td>\n      <td>C</td>\n      <td>0</td>\n      <td>NaN</td>\n      <td>NaN</td>\n      <td>NaN</td>\n      <td>NaN</td>\n      <td>NaN</td>\n    </tr>\n    <tr>\n      <th>1547178</th>\n      <td>2008</td>\n      <td>10</td>\n      <td>22</td>\n      <td>3</td>\n      <td>1733.0</td>\n      <td>1715</td>\n      <td>NaN</td>\n      <td>1818</td>\n      <td>XE</td>\n      <td>2890</td>\n      <td>...</td>\n      <td>NaN</td>\n      <td>0.0</td>\n      <td>1</td>\n      <td>B</td>\n      <td>0</td>\n      <td>NaN</td>\n      <td>NaN</td>\n      <td>NaN</td>\n      <td>NaN</td>\n      <td>NaN</td>\n    </tr>\n    <tr>\n      <th>1548271</th>\n      <td>2008</td>\n      <td>10</td>\n      <td>15</td>\n      <td>3</td>\n      <td>1943.0</td>\n      <td>1745</td>\n      <td>NaN</td>\n      <td>1857</td>\n      <td>XE</td>\n      <td>2117</td>\n      <td>...</td>\n      <td>NaN</td>\n      <td>0.0</td>\n      <td>1</td>\n      <td>B</td>\n      <td>0</td>\n      <td>NaN</td>\n      <td>NaN</td>\n      <td>NaN</td>\n      <td>NaN</td>\n      <td>NaN</td>\n    </tr>\n  </tbody>\n</table>\n<p>5 rows × 29 columns</p>\n</div>"
          },
          "metadata": {}
        }
      ],
      "execution_count": 51,
      "metadata": {
        "jupyter": {
          "source_hidden": false,
          "outputs_hidden": false
        },
        "nteract": {
          "transient": {
            "deleting": false
          }
        },
        "gather": {
          "logged": 1666584906630
        }
      }
    },
    {
      "cell_type": "code",
      "source": [
        "flights_data.info()"
      ],
      "outputs": [
        {
          "output_type": "stream",
          "name": "stdout",
          "text": "<class 'pandas.core.frame.DataFrame'>\nInt64Index: 1266 entries, 1542406 to 688439\nData columns (total 29 columns):\n #   Column             Non-Null Count  Dtype  \n---  ------             --------------  -----  \n 0   Year               1266 non-null   int64  \n 1   Month              1266 non-null   int64  \n 2   DayofMonth         1266 non-null   int64  \n 3   DayOfWeek          1266 non-null   int64  \n 4   DepTime            1266 non-null   float64\n 5   CRSDepTime         1266 non-null   int64  \n 6   ArrTime            631 non-null    float64\n 7   CRSArrTime         1266 non-null   int64  \n 8   UniqueCarrier      1266 non-null   object \n 9   FlightNum          1266 non-null   int64  \n 10  TailNum            1266 non-null   object \n 11  ActualElapsedTime  630 non-null    float64\n 12  CRSElapsedTime     1266 non-null   float64\n 13  AirTime            630 non-null    float64\n 14  ArrDelay           630 non-null    float64\n 15  DepDelay           1266 non-null   float64\n 16  Origin             1266 non-null   object \n 17  Dest               1266 non-null   object \n 18  Distance           1266 non-null   int64  \n 19  TaxiIn             631 non-null    float64\n 20  TaxiOut            1266 non-null   float64\n 21  Cancelled          1266 non-null   int64  \n 22  CancellationCode   1266 non-null   object \n 23  Diverted           1266 non-null   int64  \n 24  CarrierDelay       397 non-null    float64\n 25  WeatherDelay       397 non-null    float64\n 26  NASDelay           397 non-null    float64\n 27  SecurityDelay      397 non-null    float64\n 28  LateAircraftDelay  397 non-null    float64\ndtypes: float64(14), int64(10), object(5)\nmemory usage: 336.7+ KB\n"
        }
      ],
      "execution_count": 52,
      "metadata": {
        "jupyter": {
          "source_hidden": false,
          "outputs_hidden": false
        },
        "nteract": {
          "transient": {
            "deleting": false
          }
        },
        "gather": {
          "logged": 1666584932108
        }
      }
    },
    {
      "cell_type": "code",
      "source": [
        "flights_data.isnull().sum()"
      ],
      "outputs": [
        {
          "output_type": "execute_result",
          "execution_count": 59,
          "data": {
            "text/plain": "Year                   0\nMonth                  0\nDayofMonth             0\nDayOfWeek              0\nDepTime                0\nCRSDepTime             0\nArrTime              635\nCRSArrTime             0\nUniqueCarrier          0\nFlightNum              0\nTailNum                0\nActualElapsedTime    636\nCRSElapsedTime         0\nAirTime              636\nArrDelay             636\nDepDelay               0\nOrigin                 0\nDest                   0\nDistance               0\nTaxiIn               635\nTaxiOut                0\nCancelled              0\nCancellationCode       0\nDiverted               0\nCarrierDelay         869\nWeatherDelay         869\nNASDelay             869\nSecurityDelay        869\nLateAircraftDelay    869\ndtype: int64"
          },
          "metadata": {}
        }
      ],
      "execution_count": 59,
      "metadata": {
        "jupyter": {
          "source_hidden": false,
          "outputs_hidden": false
        },
        "nteract": {
          "transient": {
            "deleting": false
          }
        },
        "gather": {
          "logged": 1666585247979
        }
      }
    },
    {
      "cell_type": "code",
      "source": [
        "flights_data = flights_data.drop(\"Unnamed: 0\",1)"
      ],
      "outputs": [],
      "execution_count": 3,
      "metadata": {
        "jupyter": {
          "source_hidden": false,
          "outputs_hidden": false
        },
        "nteract": {
          "transient": {
            "deleting": false
          }
        },
        "gather": {
          "logged": 1666580165804
        }
      }
    },
    {
      "cell_type": "code",
      "source": [
        "target = [\"Cancelled\"]\n",
        "leaky_features = [\"Year\", \"Diverted\", \"ArrTime\", \"ActualElapsedTime\", \"AirTime\", \"ActualElapsedTime\", \"ArrDelay\", \"TaxiIn\", \"CarrierDelay\", \"WeatherDelay\", \"NASDelay\", \"SecurityDelay\",\"LateAircraftDelay\", \"CancellationCode\"]\n",
        "features = [x for x in flights_data.columns if (x != target[0]) & (x not in leaky_features) & (len(flights_data[x].unique().tolist()) > 1)]"
      ],
      "outputs": [],
      "execution_count": 60,
      "metadata": {
        "jupyter": {
          "source_hidden": false,
          "outputs_hidden": false
        },
        "nteract": {
          "transient": {
            "deleting": false
          }
        },
        "gather": {
          "logged": 1666585362785
        }
      }
    },
    {
      "cell_type": "code",
      "source": [
        "flights_data[leaky_features]"
      ],
      "outputs": [
        {
          "output_type": "execute_result",
          "execution_count": 54,
          "data": {
            "text/plain": "         Year  Diverted  ArrTime  ActualElapsedTime  AirTime  \\\n1542406  2008         0      NaN                NaN      NaN   \n1546593  2008         0      NaN                NaN      NaN   \n1547161  2008         0      NaN                NaN      NaN   \n1547178  2008         0      NaN                NaN      NaN   \n1548271  2008         0      NaN                NaN      NaN   \n...       ...       ...      ...                ...      ...   \n1334984  2008         0   2002.0              167.0    147.0   \n690834   2008         0   2333.0              103.0     65.0   \n871058   2008         0   1818.0              189.0    163.0   \n1141147  2008         0   1320.0              107.0     88.0   \n688439   2008         0   1817.0              109.0     86.0   \n\n         ActualElapsedTime  AirTime  ArrDelay  TaxiIn  CarrierDelay  \\\n1542406                NaN      NaN       NaN     NaN           NaN   \n1546593                NaN      NaN       NaN     NaN           NaN   \n1547161                NaN      NaN       NaN     NaN           NaN   \n1547178                NaN      NaN       NaN     NaN           NaN   \n1548271                NaN      NaN       NaN     NaN           NaN   \n...                    ...      ...       ...     ...           ...   \n1334984              167.0    147.0      18.0     6.0           0.0   \n690834               103.0     65.0      38.0     6.0          31.0   \n871058               189.0    163.0      -9.0     7.0           NaN   \n1141147              107.0     88.0      15.0     4.0          15.0   \n688439               109.0     86.0       2.0     9.0           NaN   \n\n         WeatherDelay  NASDelay  SecurityDelay  LateAircraftDelay  \\\n1542406           NaN       NaN            NaN                NaN   \n1546593           NaN       NaN            NaN                NaN   \n1547161           NaN       NaN            NaN                NaN   \n1547178           NaN       NaN            NaN                NaN   \n1548271           NaN       NaN            NaN                NaN   \n...               ...       ...            ...                ...   \n1334984           0.0       2.0            0.0               16.0   \n690834            0.0       7.0            0.0                0.0   \n871058            NaN       NaN            NaN                NaN   \n1141147           0.0       0.0            0.0                0.0   \n688439            NaN       NaN            NaN                NaN   \n\n        CancellationCode  \n1542406                A  \n1546593                B  \n1547161                C  \n1547178                B  \n1548271                B  \n...                  ...  \n1334984                N  \n690834                 N  \n871058                 N  \n1141147                N  \n688439                 N  \n\n[1266 rows x 15 columns]",
            "text/html": "<div>\n<style scoped>\n    .dataframe tbody tr th:only-of-type {\n        vertical-align: middle;\n    }\n\n    .dataframe tbody tr th {\n        vertical-align: top;\n    }\n\n    .dataframe thead th {\n        text-align: right;\n    }\n</style>\n<table border=\"1\" class=\"dataframe\">\n  <thead>\n    <tr style=\"text-align: right;\">\n      <th></th>\n      <th>Year</th>\n      <th>Diverted</th>\n      <th>ArrTime</th>\n      <th>ActualElapsedTime</th>\n      <th>AirTime</th>\n      <th>ActualElapsedTime</th>\n      <th>AirTime</th>\n      <th>ArrDelay</th>\n      <th>TaxiIn</th>\n      <th>CarrierDelay</th>\n      <th>WeatherDelay</th>\n      <th>NASDelay</th>\n      <th>SecurityDelay</th>\n      <th>LateAircraftDelay</th>\n      <th>CancellationCode</th>\n    </tr>\n  </thead>\n  <tbody>\n    <tr>\n      <th>1542406</th>\n      <td>2008</td>\n      <td>0</td>\n      <td>NaN</td>\n      <td>NaN</td>\n      <td>NaN</td>\n      <td>NaN</td>\n      <td>NaN</td>\n      <td>NaN</td>\n      <td>NaN</td>\n      <td>NaN</td>\n      <td>NaN</td>\n      <td>NaN</td>\n      <td>NaN</td>\n      <td>NaN</td>\n      <td>A</td>\n    </tr>\n    <tr>\n      <th>1546593</th>\n      <td>2008</td>\n      <td>0</td>\n      <td>NaN</td>\n      <td>NaN</td>\n      <td>NaN</td>\n      <td>NaN</td>\n      <td>NaN</td>\n      <td>NaN</td>\n      <td>NaN</td>\n      <td>NaN</td>\n      <td>NaN</td>\n      <td>NaN</td>\n      <td>NaN</td>\n      <td>NaN</td>\n      <td>B</td>\n    </tr>\n    <tr>\n      <th>1547161</th>\n      <td>2008</td>\n      <td>0</td>\n      <td>NaN</td>\n      <td>NaN</td>\n      <td>NaN</td>\n      <td>NaN</td>\n      <td>NaN</td>\n      <td>NaN</td>\n      <td>NaN</td>\n      <td>NaN</td>\n      <td>NaN</td>\n      <td>NaN</td>\n      <td>NaN</td>\n      <td>NaN</td>\n      <td>C</td>\n    </tr>\n    <tr>\n      <th>1547178</th>\n      <td>2008</td>\n      <td>0</td>\n      <td>NaN</td>\n      <td>NaN</td>\n      <td>NaN</td>\n      <td>NaN</td>\n      <td>NaN</td>\n      <td>NaN</td>\n      <td>NaN</td>\n      <td>NaN</td>\n      <td>NaN</td>\n      <td>NaN</td>\n      <td>NaN</td>\n      <td>NaN</td>\n      <td>B</td>\n    </tr>\n    <tr>\n      <th>1548271</th>\n      <td>2008</td>\n      <td>0</td>\n      <td>NaN</td>\n      <td>NaN</td>\n      <td>NaN</td>\n      <td>NaN</td>\n      <td>NaN</td>\n      <td>NaN</td>\n      <td>NaN</td>\n      <td>NaN</td>\n      <td>NaN</td>\n      <td>NaN</td>\n      <td>NaN</td>\n      <td>NaN</td>\n      <td>B</td>\n    </tr>\n    <tr>\n      <th>...</th>\n      <td>...</td>\n      <td>...</td>\n      <td>...</td>\n      <td>...</td>\n      <td>...</td>\n      <td>...</td>\n      <td>...</td>\n      <td>...</td>\n      <td>...</td>\n      <td>...</td>\n      <td>...</td>\n      <td>...</td>\n      <td>...</td>\n      <td>...</td>\n      <td>...</td>\n    </tr>\n    <tr>\n      <th>1334984</th>\n      <td>2008</td>\n      <td>0</td>\n      <td>2002.0</td>\n      <td>167.0</td>\n      <td>147.0</td>\n      <td>167.0</td>\n      <td>147.0</td>\n      <td>18.0</td>\n      <td>6.0</td>\n      <td>0.0</td>\n      <td>0.0</td>\n      <td>2.0</td>\n      <td>0.0</td>\n      <td>16.0</td>\n      <td>N</td>\n    </tr>\n    <tr>\n      <th>690834</th>\n      <td>2008</td>\n      <td>0</td>\n      <td>2333.0</td>\n      <td>103.0</td>\n      <td>65.0</td>\n      <td>103.0</td>\n      <td>65.0</td>\n      <td>38.0</td>\n      <td>6.0</td>\n      <td>31.0</td>\n      <td>0.0</td>\n      <td>7.0</td>\n      <td>0.0</td>\n      <td>0.0</td>\n      <td>N</td>\n    </tr>\n    <tr>\n      <th>871058</th>\n      <td>2008</td>\n      <td>0</td>\n      <td>1818.0</td>\n      <td>189.0</td>\n      <td>163.0</td>\n      <td>189.0</td>\n      <td>163.0</td>\n      <td>-9.0</td>\n      <td>7.0</td>\n      <td>NaN</td>\n      <td>NaN</td>\n      <td>NaN</td>\n      <td>NaN</td>\n      <td>NaN</td>\n      <td>N</td>\n    </tr>\n    <tr>\n      <th>1141147</th>\n      <td>2008</td>\n      <td>0</td>\n      <td>1320.0</td>\n      <td>107.0</td>\n      <td>88.0</td>\n      <td>107.0</td>\n      <td>88.0</td>\n      <td>15.0</td>\n      <td>4.0</td>\n      <td>15.0</td>\n      <td>0.0</td>\n      <td>0.0</td>\n      <td>0.0</td>\n      <td>0.0</td>\n      <td>N</td>\n    </tr>\n    <tr>\n      <th>688439</th>\n      <td>2008</td>\n      <td>0</td>\n      <td>1817.0</td>\n      <td>109.0</td>\n      <td>86.0</td>\n      <td>109.0</td>\n      <td>86.0</td>\n      <td>2.0</td>\n      <td>9.0</td>\n      <td>NaN</td>\n      <td>NaN</td>\n      <td>NaN</td>\n      <td>NaN</td>\n      <td>NaN</td>\n      <td>N</td>\n    </tr>\n  </tbody>\n</table>\n<p>1266 rows × 15 columns</p>\n</div>"
          },
          "metadata": {}
        }
      ],
      "execution_count": 54,
      "metadata": {
        "jupyter": {
          "source_hidden": false,
          "outputs_hidden": false
        },
        "nteract": {
          "transient": {
            "deleting": false
          }
        },
        "gather": {
          "logged": 1666585000510
        }
      }
    },
    {
      "cell_type": "code",
      "source": [
        "features"
      ],
      "outputs": [
        {
          "output_type": "execute_result",
          "execution_count": 29,
          "data": {
            "text/plain": "['Month',\n 'DayofMonth',\n 'DayOfWeek',\n 'DepTime',\n 'CRSDepTime',\n 'CRSArrTime',\n 'UniqueCarrier',\n 'FlightNum',\n 'TailNum',\n 'CRSElapsedTime',\n 'DepDelay',\n 'Origin',\n 'Dest',\n 'Distance',\n 'TaxiOut']"
          },
          "metadata": {}
        }
      ],
      "execution_count": 29,
      "metadata": {
        "jupyter": {
          "source_hidden": false,
          "outputs_hidden": false
        },
        "nteract": {
          "transient": {
            "deleting": false
          }
        },
        "gather": {
          "logged": 1666581699107
        }
      }
    },
    {
      "cell_type": "code",
      "source": [
        "where = flights_data[\"Month\"].isin([10,11,12])\n",
        "data = flights_data[where]"
      ],
      "outputs": [],
      "execution_count": 5,
      "metadata": {
        "jupyter": {
          "source_hidden": false,
          "outputs_hidden": false
        },
        "nteract": {
          "transient": {
            "deleting": false
          }
        },
        "gather": {
          "logged": 1666580166647
        }
      }
    },
    {
      "cell_type": "code",
      "source": [
        "def get_dtypes(data,features):\n",
        "    output = {}\n",
        "    for f in features:\n",
        "        dtype = str(data[f].dtype)\n",
        "        if dtype not in output.keys(): output[dtype] = [f]\n",
        "        else: output[dtype] += [f]\n",
        "    return output"
      ],
      "outputs": [],
      "execution_count": 6,
      "metadata": {
        "jupyter": {
          "source_hidden": false,
          "outputs_hidden": false
        },
        "nteract": {
          "transient": {
            "deleting": false
          }
        },
        "gather": {
          "logged": 1666580166691
        }
      }
    },
    {
      "cell_type": "code",
      "source": [
        "dtypes = get_dtypes(flights_data,features)"
      ],
      "outputs": [],
      "execution_count": 7,
      "metadata": {
        "jupyter": {
          "source_hidden": false,
          "outputs_hidden": false
        },
        "nteract": {
          "transient": {
            "deleting": false
          }
        },
        "gather": {
          "logged": 1666580166744
        }
      }
    },
    {
      "cell_type": "code",
      "source": [
        "categories = [\"Month\", \"DayOfWeek\", \"DayofMonth\"]\n",
        "categories += dtypes[\"object\"]\n",
        "numerics = [i for i in dtypes[\"int64\"] if i not in categories]\n",
        "numerics += dtypes[\"float64\"]"
      ],
      "outputs": [],
      "execution_count": 8,
      "metadata": {
        "jupyter": {
          "source_hidden": false,
          "outputs_hidden": false
        },
        "nteract": {
          "transient": {
            "deleting": false
          }
        },
        "gather": {
          "logged": 1666580166787
        }
      }
    },
    {
      "cell_type": "code",
      "source": [
        "flights_data[categories].head()"
      ],
      "outputs": [
        {
          "output_type": "execute_result",
          "execution_count": 9,
          "data": {
            "text/plain": "   Month  DayOfWeek  DayofMonth UniqueCarrier TailNum Origin Dest\n0      1          4           3            WN  N712SW    IAD  TPA\n1      1          4           3            WN  N772SW    IAD  TPA\n2      1          4           3            WN  N428WN    IND  BWI\n3      1          4           3            WN  N464WN    IND  BWI\n4      1          4           3            WN  N726SW    IND  JAX",
            "text/html": "<div>\n<style scoped>\n    .dataframe tbody tr th:only-of-type {\n        vertical-align: middle;\n    }\n\n    .dataframe tbody tr th {\n        vertical-align: top;\n    }\n\n    .dataframe thead th {\n        text-align: right;\n    }\n</style>\n<table border=\"1\" class=\"dataframe\">\n  <thead>\n    <tr style=\"text-align: right;\">\n      <th></th>\n      <th>Month</th>\n      <th>DayOfWeek</th>\n      <th>DayofMonth</th>\n      <th>UniqueCarrier</th>\n      <th>TailNum</th>\n      <th>Origin</th>\n      <th>Dest</th>\n    </tr>\n  </thead>\n  <tbody>\n    <tr>\n      <th>0</th>\n      <td>1</td>\n      <td>4</td>\n      <td>3</td>\n      <td>WN</td>\n      <td>N712SW</td>\n      <td>IAD</td>\n      <td>TPA</td>\n    </tr>\n    <tr>\n      <th>1</th>\n      <td>1</td>\n      <td>4</td>\n      <td>3</td>\n      <td>WN</td>\n      <td>N772SW</td>\n      <td>IAD</td>\n      <td>TPA</td>\n    </tr>\n    <tr>\n      <th>2</th>\n      <td>1</td>\n      <td>4</td>\n      <td>3</td>\n      <td>WN</td>\n      <td>N428WN</td>\n      <td>IND</td>\n      <td>BWI</td>\n    </tr>\n    <tr>\n      <th>3</th>\n      <td>1</td>\n      <td>4</td>\n      <td>3</td>\n      <td>WN</td>\n      <td>N464WN</td>\n      <td>IND</td>\n      <td>BWI</td>\n    </tr>\n    <tr>\n      <th>4</th>\n      <td>1</td>\n      <td>4</td>\n      <td>3</td>\n      <td>WN</td>\n      <td>N726SW</td>\n      <td>IND</td>\n      <td>JAX</td>\n    </tr>\n  </tbody>\n</table>\n</div>"
          },
          "metadata": {}
        }
      ],
      "execution_count": 9,
      "metadata": {
        "jupyter": {
          "source_hidden": false,
          "outputs_hidden": false
        },
        "nteract": {
          "transient": {
            "deleting": false
          }
        },
        "gather": {
          "logged": 1666580166852
        }
      }
    },
    {
      "cell_type": "code",
      "source": [
        "flights_data[numerics].head()"
      ],
      "outputs": [
        {
          "output_type": "execute_result",
          "execution_count": 10,
          "data": {
            "text/plain": "   CRSDepTime  CRSArrTime  FlightNum  Distance  DepTime  CRSElapsedTime  \\\n0        1955        2225        335       810   2003.0           150.0   \n1         735        1000       3231       810    754.0           145.0   \n2         620         750        448       515    628.0            90.0   \n3        1755        1925       3920       515   1829.0            90.0   \n4        1915        2110        378       688   1940.0           115.0   \n\n   DepDelay  TaxiOut  \n0       8.0      8.0  \n1      19.0     10.0  \n2       8.0     17.0  \n3      34.0     10.0  \n4      25.0     10.0  ",
            "text/html": "<div>\n<style scoped>\n    .dataframe tbody tr th:only-of-type {\n        vertical-align: middle;\n    }\n\n    .dataframe tbody tr th {\n        vertical-align: top;\n    }\n\n    .dataframe thead th {\n        text-align: right;\n    }\n</style>\n<table border=\"1\" class=\"dataframe\">\n  <thead>\n    <tr style=\"text-align: right;\">\n      <th></th>\n      <th>CRSDepTime</th>\n      <th>CRSArrTime</th>\n      <th>FlightNum</th>\n      <th>Distance</th>\n      <th>DepTime</th>\n      <th>CRSElapsedTime</th>\n      <th>DepDelay</th>\n      <th>TaxiOut</th>\n    </tr>\n  </thead>\n  <tbody>\n    <tr>\n      <th>0</th>\n      <td>1955</td>\n      <td>2225</td>\n      <td>335</td>\n      <td>810</td>\n      <td>2003.0</td>\n      <td>150.0</td>\n      <td>8.0</td>\n      <td>8.0</td>\n    </tr>\n    <tr>\n      <th>1</th>\n      <td>735</td>\n      <td>1000</td>\n      <td>3231</td>\n      <td>810</td>\n      <td>754.0</td>\n      <td>145.0</td>\n      <td>19.0</td>\n      <td>10.0</td>\n    </tr>\n    <tr>\n      <th>2</th>\n      <td>620</td>\n      <td>750</td>\n      <td>448</td>\n      <td>515</td>\n      <td>628.0</td>\n      <td>90.0</td>\n      <td>8.0</td>\n      <td>17.0</td>\n    </tr>\n    <tr>\n      <th>3</th>\n      <td>1755</td>\n      <td>1925</td>\n      <td>3920</td>\n      <td>515</td>\n      <td>1829.0</td>\n      <td>90.0</td>\n      <td>34.0</td>\n      <td>10.0</td>\n    </tr>\n    <tr>\n      <th>4</th>\n      <td>1915</td>\n      <td>2110</td>\n      <td>378</td>\n      <td>688</td>\n      <td>1940.0</td>\n      <td>115.0</td>\n      <td>25.0</td>\n      <td>10.0</td>\n    </tr>\n  </tbody>\n</table>\n</div>"
          },
          "metadata": {}
        }
      ],
      "execution_count": 10,
      "metadata": {
        "jupyter": {
          "source_hidden": false,
          "outputs_hidden": false
        },
        "nteract": {
          "transient": {
            "deleting": false
          }
        },
        "gather": {
          "logged": 1666580166903
        }
      }
    },
    {
      "cell_type": "code",
      "source": [
        "for numeric in numerics: flights_data[numeric] = flights_data[numeric].fillna(0)"
      ],
      "outputs": [],
      "execution_count": 11,
      "metadata": {
        "jupyter": {
          "source_hidden": false,
          "outputs_hidden": false
        },
        "nteract": {
          "transient": {
            "deleting": false
          }
        },
        "gather": {
          "logged": 1666580167044
        }
      }
    },
    {
      "cell_type": "code",
      "source": [
        "categories.remove(\"TailNum\")"
      ],
      "outputs": [],
      "execution_count": 12,
      "metadata": {
        "jupyter": {
          "source_hidden": false,
          "outputs_hidden": false
        },
        "nteract": {
          "transient": {
            "deleting": false
          }
        },
        "gather": {
          "logged": 1666580167100
        }
      }
    },
    {
      "cell_type": "code",
      "source": [
        "cancelled = flights_data[flights_data[target[0]] == 1]\n",
        "not_cancelled = flights_data[flights_data[target[0]] == 0]"
      ],
      "outputs": [],
      "execution_count": 14,
      "metadata": {
        "jupyter": {
          "source_hidden": false,
          "outputs_hidden": false
        },
        "nteract": {
          "transient": {
            "deleting": false
          }
        },
        "gather": {
          "logged": 1666580215054
        }
      }
    },
    {
      "cell_type": "code",
      "source": [
        "flights_data = pd.concat([cancelled, not_cancelled.sample(n=len(cancelled))],0)\n"
      ],
      "outputs": [],
      "execution_count": 16,
      "metadata": {
        "jupyter": {
          "source_hidden": false,
          "outputs_hidden": false
        },
        "nteract": {
          "transient": {
            "deleting": false
          }
        },
        "gather": {
          "logged": 1666580289108
        }
      }
    },
    {
      "cell_type": "code",
      "source": [
        "import matplotlib.pyplot as plt\n",
        "\n",
        "font = {'size'   : 16}\n",
        "plt.rc('font', **font)\n",
        "\n",
        "days_cancelled = cancelled['Cancelled'].groupby(flights_data['DayOfWeek']).count()\n",
        "days_total = flights_data['Cancelled'].groupby(flights_data['DayOfWeek']).count()\n",
        "days_frac = np.divide(days_cancelled, days_total)\n",
        "x=days_frac.index.values\n",
        "week = ['Monday', 'Tuesday', 'Wednesday', 'Thursday', 'Friday', 'Saturday', 'Sunday']\n",
        "\n",
        "fig, ax = plt.subplots(figsize = (12,6))\n",
        "ax.bar(x,days_frac*100, align='center')\n",
        "ax.set_ylabel('Percentage of Flights Cancelled')\n",
        "ax.set_xticks(x)\n",
        "ax.set_xticklabels(week, rotation = 45)\n",
        "\n",
        "plt.show()"
      ],
      "outputs": [
        {
          "output_type": "display_data",
          "data": {
            "text/plain": "<Figure size 864x432 with 1 Axes>",
            "image/png": "[encoded data removed]"
          },
          "metadata": {
            "needs_background": "light"
          }
        }
      ],
      "execution_count": 32,
      "metadata": {
        "jupyter": {
          "source_hidden": false,
          "outputs_hidden": false
        },
        "nteract": {
          "transient": {
            "deleting": false
          }
        },
        "gather": {
          "logged": 1666583019090
        }
      }
    },
    {
      "cell_type": "code",
      "source": [
        "flights_data['CRSDepTime'].head(10)\n",
        "import matplotlib.pyplot as plt\n",
        "\n",
        "fig, ax = plt.subplots(figsize = (12,6))\n",
        "\n",
        "ax.hist([flights_data['CRSDepTime'], cancelled['CRSDepTime']], bins=20, label=['All', 'Cancelled'])\n",
        "\n",
        "ax.set_xlim(0,2400)\n",
        "\n",
        "ax.set_xlabel('Scheduled Departure Time')\n",
        "ax.set_title('Normalized histogram of Scheduled Departure Times')\n",
        "\n",
        "plt.legend()\n",
        "plt.show()"
      ],
      "outputs": [
        {
          "output_type": "display_data",
          "data": {
            "text/plain": "<Figure size 864x432 with 1 Axes>",
            "image/png": "[encoded data removed]"
          },
          "metadata": {
            "needs_background": "light"
          }
        }
      ],
      "execution_count": 35,
      "metadata": {
        "jupyter": {
          "source_hidden": false,
          "outputs_hidden": false
        },
        "nteract": {
          "transient": {
            "deleting": false
          }
        },
        "gather": {
          "logged": 1666583305621
        }
      }
    },
    {
      "cell_type": "code",
      "source": [
        "fig, ax = plt.subplots(figsize = (12,6))\n",
        "\n",
        "ax.hist([flights_data['DayofMonth'], cancelled['DayofMonth']], bins=31, label=['All', 'Cancelled'])\n",
        "\n",
        "ax.set_xlim(0,31)\n",
        "\n",
        "ax.set_xlabel('Day of Month')\n",
        "ax.set_title('Histogram of Day of Month')\n",
        "\n",
        "plt.legend()\n",
        "plt.show()"
      ],
      "outputs": [
        {
          "output_type": "stream",
          "name": "stderr",
          "text": "/anaconda/envs/azureml_py38/lib/python3.8/site-packages/numpy/core/fromnumeric.py:3208: VisibleDeprecationWarning: Creating an ndarray from ragged nested sequences (which is a list-or-tuple of lists-or-tuples-or ndarrays with different lengths or shapes) is deprecated. If you meant to do this, you must specify 'dtype=object' when creating the ndarray.\n  return asarray(a).size\n/anaconda/envs/azureml_py38/lib/python3.8/site-packages/matplotlib/cbook/__init__.py:1376: VisibleDeprecationWarning: Creating an ndarray from ragged nested sequences (which is a list-or-tuple of lists-or-tuples-or ndarrays with different lengths or shapes) is deprecated. If you meant to do this, you must specify 'dtype=object' when creating the ndarray.\n  X = np.atleast_1d(X.T if isinstance(X, np.ndarray) else np.asarray(X))\n"
        },
        {
          "output_type": "display_data",
          "data": {
            "text/plain": "<Figure size 864x432 with 1 Axes>",
            "image/png": "[encoded data removed]"
          },
          "metadata": {
            "needs_background": "light"
          }
        }
      ],
      "execution_count": 42,
      "metadata": {
        "jupyter": {
          "source_hidden": false,
          "outputs_hidden": false
        },
        "nteract": {
          "transient": {
            "deleting": false
          }
        },
        "gather": {
          "logged": 1666583818306
        }
      }
    },
    {
      "cell_type": "code",
      "source": [
        "fig, ax = plt.subplots(figsize = (12,6))\n",
        "\n",
        "ax.hist([flights_data['Month'], cancelled['Month']], label=['All', 'Cancelled'])\n",
        "\n",
        "ax.set_xlabel('Month')\n",
        "ax.set_title('histogram of Months')\n",
        "\n",
        "plt.legend()\n",
        "plt.show()"
      ],
      "outputs": [
        {
          "output_type": "display_data",
          "data": {
            "text/plain": "<Figure size 864x432 with 1 Axes>",
            "image/png": "[encoded data removed]"
          },
          "metadata": {
            "needs_background": "light"
          }
        }
      ],
      "execution_count": 45,
      "metadata": {
        "jupyter": {
          "source_hidden": false,
          "outputs_hidden": false
        },
        "nteract": {
          "transient": {
            "deleting": false
          }
        },
        "gather": {
          "logged": 1666583931586
        }
      }
    },
    {
      "cell_type": "code",
      "source": [
        "import matplotlib.pyplot as plt\n",
        "\n",
        "fig, ax = plt.subplots(figsize = (12,6))\n",
        "\n",
        "ax.hist([flights_data['Distance'], cancelled['Distance']], bins=20, label=['All', 'Cancelled'])\n",
        "\n",
        "ax.set_xlim(0,3000)\n",
        "ax.set_xlabel('Flight Distance in miles')\n",
        "ax.set_title('Histogram of Flight Distances')\n",
        "\n",
        "plt.legend()\n",
        "plt.show()"
      ],
      "outputs": [
        {
          "output_type": "display_data",
          "data": {
            "text/plain": "<Figure size 864x432 with 1 Axes>",
            "image/png": "[encoded data removed]"
          },
          "metadata": {
            "needs_background": "light"
          }
        }
      ],
      "execution_count": 48,
      "metadata": {
        "jupyter": {
          "source_hidden": false,
          "outputs_hidden": false
        },
        "nteract": {
          "transient": {
            "deleting": false
          }
        },
        "gather": {
          "logged": 1666584004802
        }
      }
    },
    {
      "cell_type": "code",
      "source": [
        "one_hot_encoded = pd.get_dummies(flights_data[categories].fillna(\"Unknown\"))\n",
        "X = pd.concat([one_hot_encoded, flights_data[numerics].fillna(0)],1)\n",
        "y = flights_data[target[0]]"
      ],
      "outputs": [],
      "execution_count": 19,
      "metadata": {
        "jupyter": {
          "source_hidden": false,
          "outputs_hidden": false
        },
        "nteract": {
          "transient": {
            "deleting": false
          }
        },
        "gather": {
          "logged": 1666580410429
        }
      }
    },
    {
      "cell_type": "code",
      "source": [
        "# Function to get the cross vallidation scores\n",
        "def get_results(model, X, y):\n",
        "\n",
        "    import warnings\n",
        "    with warnings.catch_warnings():\n",
        "        warnings.simplefilter(\"ignore\")\n",
        "        from sklearn.model_selection import cross_val_score\n",
        "        compute = cross_val_score(model, X, y, cv=10)\n",
        "        mean = compute.mean()\n",
        "        std = compute.std()\n",
        "        return mean, std"
      ],
      "outputs": [],
      "execution_count": 20,
      "metadata": {
        "jupyter": {
          "source_hidden": false,
          "outputs_hidden": false
        },
        "nteract": {
          "transient": {
            "deleting": false
          }
        },
        "gather": {
          "logged": 1666580639829
        }
      }
    },
    {
      "cell_type": "code",
      "source": [
        "def display_classifier_results(X,y):\n",
        "\n",
        "    models = []\n",
        "\n",
        "    from xgboost import XGBClassifier\n",
        "    models += [XGBClassifier()]\n",
        "    \n",
        "    from sklearn.neighbors import KNeighborsClassifier\n",
        "    models += [KNeighborsClassifier()]\n",
        "\n",
        "    from sklearn.naive_bayes import GaussianNB\n",
        "    models += [GaussianNB()]\n",
        "\n",
        "    from sklearn.ensemble import RandomForestClassifier, GradientBoostingClassifier\n",
        "    models += [RandomForestClassifier(), GradientBoostingClassifier()]\n",
        "\n",
        "\n",
        "    output = {}\n",
        "\n",
        "    for m in models:\n",
        "        try:\n",
        "            model_name = type(m).__name__\n",
        "            from time import time\n",
        "            start = time()\n",
        "            scores = get_results(m,X,y)\n",
        "            finish = time() - start\n",
        "            time_finished = \"%d minutes %2d seconds\" % (int(finish / 60), finish % 60) \n",
        "            row = {\"Mean Accuracy\" : scores[0], \"(+/-)\" : scores[1], \"Processing Time\": time_finished}\n",
        "            output[model_name] = row\n",
        "        except:\n",
        "            pass\n",
        "\n",
        "    from pandas import DataFrame\n",
        "    from IPython.display import display\n",
        "\n",
        "    result = DataFrame(data=output).T\n",
        "    result = result[[\"Mean Accuracy\", \"(+/-)\", \"Processing Time\"]]\n",
        "    display(result.sort_values(\"Mean Accuracy\", ascending=False))\n"
      ],
      "outputs": [],
      "execution_count": 24,
      "metadata": {
        "jupyter": {
          "source_hidden": false,
          "outputs_hidden": false
        },
        "nteract": {
          "transient": {
            "deleting": false
          }
        },
        "gather": {
          "logged": 1666581277447
        }
      }
    },
    {
      "cell_type": "code",
      "source": [
        "display_classifier_results(X,y)"
      ],
      "outputs": [
        {
          "output_type": "stream",
          "name": "stdout",
          "text": "[03:14:43] WARNING: /mnt/xgboost/src/learner.cc:1061: Starting in XGBoost 1.3.0, the default evaluation metric used with the objective 'binary:logistic' was changed from 'error' to 'logloss'. Explicitly set eval_metric if you'd like to restore the old behavior.\n[03:14:43] WARNING: /mnt/xgboost/src/learner.cc:1061: Starting in XGBoost 1.3.0, the default evaluation metric used with the objective 'binary:logistic' was changed from 'error' to 'logloss'. Explicitly set eval_metric if you'd like to restore the old behavior.\n[03:14:44] WARNING: /mnt/xgboost/src/learner.cc:1061: Starting in XGBoost 1.3.0, the default evaluation metric used with the objective 'binary:logistic' was changed from 'error' to 'logloss'. Explicitly set eval_metric if you'd like to restore the old behavior.\n[03:14:45] WARNING: /mnt/xgboost/src/learner.cc:1061: Starting in XGBoost 1.3.0, the default evaluation metric used with the objective 'binary:logistic' was changed from 'error' to 'logloss'. Explicitly set eval_metric if you'd like to restore the old behavior.\n[03:14:46] WARNING: /mnt/xgboost/src/learner.cc:1061: Starting in XGBoost 1.3.0, the default evaluation metric used with the objective 'binary:logistic' was changed from 'error' to 'logloss'. Explicitly set eval_metric if you'd like to restore the old behavior.\n[03:14:46] WARNING: /mnt/xgboost/src/learner.cc:1061: Starting in XGBoost 1.3.0, the default evaluation metric used with the objective 'binary:logistic' was changed from 'error' to 'logloss'. Explicitly set eval_metric if you'd like to restore the old behavior.\n[03:14:47] WARNING: /mnt/xgboost/src/learner.cc:1061: Starting in XGBoost 1.3.0, the default evaluation metric used with the objective 'binary:logistic' was changed from 'error' to 'logloss'. Explicitly set eval_metric if you'd like to restore the old behavior.\n[03:14:48] WARNING: /mnt/xgboost/src/learner.cc:1061: Starting in XGBoost 1.3.0, the default evaluation metric used with the objective 'binary:logistic' was changed from 'error' to 'logloss'. Explicitly set eval_metric if you'd like to restore the old behavior.\n[03:14:49] WARNING: /mnt/xgboost/src/learner.cc:1061: Starting in XGBoost 1.3.0, the default evaluation metric used with the objective 'binary:logistic' was changed from 'error' to 'logloss'. Explicitly set eval_metric if you'd like to restore the old behavior.\n[03:14:50] WARNING: /mnt/xgboost/src/learner.cc:1061: Starting in XGBoost 1.3.0, the default evaluation metric used with the objective 'binary:logistic' was changed from 'error' to 'logloss'. Explicitly set eval_metric if you'd like to restore the old behavior.\n"
        },
        {
          "output_type": "display_data",
          "data": {
            "text/plain": "                           Mean Accuracy      (+/-)       Processing Time\nRandomForestClassifier          0.902143  0.0743131  0 minutes  2 seconds\nGradientBoostingClassifier      0.881677   0.136216  0 minutes  5 seconds\nXGBClassifier                    0.87854    0.13901  0 minutes  7 seconds\nGaussianNB                       0.65708  0.0862641  0 minutes  0 seconds\nKNeighborsClassifier             0.56866  0.0592144  0 minutes  0 seconds",
            "text/html": "<div>\n<style scoped>\n    .dataframe tbody tr th:only-of-type {\n        vertical-align: middle;\n    }\n\n    .dataframe tbody tr th {\n        vertical-align: top;\n    }\n\n    .dataframe thead th {\n        text-align: right;\n    }\n</style>\n<table border=\"1\" class=\"dataframe\">\n  <thead>\n    <tr style=\"text-align: right;\">\n      <th></th>\n      <th>Mean Accuracy</th>\n      <th>(+/-)</th>\n      <th>Processing Time</th>\n    </tr>\n  </thead>\n  <tbody>\n    <tr>\n      <th>RandomForestClassifier</th>\n      <td>0.902143</td>\n      <td>0.0743131</td>\n      <td>0 minutes  2 seconds</td>\n    </tr>\n    <tr>\n      <th>GradientBoostingClassifier</th>\n      <td>0.881677</td>\n      <td>0.136216</td>\n      <td>0 minutes  5 seconds</td>\n    </tr>\n    <tr>\n      <th>XGBClassifier</th>\n      <td>0.87854</td>\n      <td>0.13901</td>\n      <td>0 minutes  7 seconds</td>\n    </tr>\n    <tr>\n      <th>GaussianNB</th>\n      <td>0.65708</td>\n      <td>0.0862641</td>\n      <td>0 minutes  0 seconds</td>\n    </tr>\n    <tr>\n      <th>KNeighborsClassifier</th>\n      <td>0.56866</td>\n      <td>0.0592144</td>\n      <td>0 minutes  0 seconds</td>\n    </tr>\n  </tbody>\n</table>\n</div>"
          },
          "metadata": {}
        }
      ],
      "execution_count": 25,
      "metadata": {
        "jupyter": {
          "source_hidden": false,
          "outputs_hidden": false
        },
        "nteract": {
          "transient": {
            "deleting": false
          }
        },
        "gather": {
          "logged": 1666581299882
        }
      }
    },
    {
      "cell_type": "code",
      "source": [
        "\n"
      ],
      "outputs": [],
      "execution_count": null,
      "metadata": {
        "jupyter": {
          "source_hidden": false,
          "outputs_hidden": false
        },
        "nteract": {
          "transient": {
            "deleting": false
          }
        }
      }
    }
  ],
  "metadata": {
    "kernelspec": {
      "name": "python38-azureml",
      "language": "python",
      "display_name": "Python 3.8 - AzureML"
    },
    "language_info": {
      "name": "python",
      "version": "3.8.5",
      "mimetype": "text/x-python",
      "codemirror_mode": {
        "name": "ipython",
        "version": 3
      },
      "pygments_lexer": "ipython3",
      "nbconvert_exporter": "python",
      "file_extension": ".py"
    },
    "kernel_info": {
      "name": "python38-azureml"
    },
    "nteract": {
      "version": "nteract-front-end@1.0.0"
    },
    "microsoft": {
      "host": {
        "AzureML": {
          "notebookHasBeenCompleted": true
        }
      }
    }
  },
  "nbformat": 4,
  "nbformat_minor": 2
}